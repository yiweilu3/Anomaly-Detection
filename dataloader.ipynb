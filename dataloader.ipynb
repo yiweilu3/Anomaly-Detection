{
 "cells": [
  {
   "cell_type": "code",
   "execution_count": 114,
   "metadata": {},
   "outputs": [],
   "source": [
    "import torch\n",
    "from torch.utils.data.dataset import Dataset\n",
    "from PIL import Image\n",
    "import torch.nn as nn\n",
    "import os"
   ]
  },
  {
   "cell_type": "code",
   "execution_count": 115,
   "metadata": {},
   "outputs": [],
   "source": [
    "training_image_path=\"ped1/training/frames\"\n",
    "image_path='/home/luy2/workspace/Anomaly_Detection/ped1/training/frames'"
   ]
  },
  {
   "cell_type": "code",
   "execution_count": 118,
   "metadata": {
    "scrolled": true
   },
   "outputs": [],
   "source": [
    "with open('train_frame.txt','w+') as f:\n",
    "    path = \"/home/luy2/workspace/Anomaly_Detection/ped1/training/frames\" \n",
    "    path_list=os.listdir(path)\n",
    "    path_list.sort()\n",
    "    for filename in path_list:\n",
    "        path_list2=os.listdir(os.path.join(path,filename))\n",
    "        path_list2.sort()\n",
    "        for filename2 in path_list2:\n",
    "            print(os.path.join(training_image_path,filename,filename2),file=f)   "
   ]
  },
  {
   "cell_type": "code",
   "execution_count": 121,
   "metadata": {},
   "outputs": [],
   "source": [
    "image_file=open('/home/luy2/workspace/Anomaly_Detection/train_frame.txt','r')\n",
    "with open('image_list.txt','w+') as f:\n",
    "    l1=[]\n",
    "    for line in image_file:\n",
    "        l1.append(line.strip())\n",
    "    print(l1,file=f)"
   ]
  },
  {
   "cell_type": "code",
   "execution_count": 123,
   "metadata": {},
   "outputs": [],
   "source": [
    "l3=[]\n",
    "l2=[]\n",
    "with open('training_list_1.txt','w+') as f:\n",
    "    with open('groundtruth_1.txt','w+') as g:\n",
    "        for j in range (len(l1)-9):\n",
    "            if j%10==0:\n",
    "                l2.append(l1[j:j+9])\n",
    "                gt = l1[j+9]\n",
    "                l3.append(gt)\n",
    "        print(l2,file=f)\n",
    "        print(l3,file=g)"
   ]
  },
  {
   "cell_type": "code",
   "execution_count": 124,
   "metadata": {},
   "outputs": [],
   "source": [
    "# method to read the files\n",
    "def read_file(path):\n",
    "    with open(path, 'r') as fp:\n",
    "        data = [d.rstrip('\\n') for d in fp.readlines()]\n",
    "    return data\n",
    "\n",
    "training_list = read_file('training_list_1.txt')[0]"
   ]
  },
  {
   "cell_type": "code",
   "execution_count": 112,
   "metadata": {},
   "outputs": [],
   "source": [
    "import ast \n",
    "\n",
    "data = ast.literal_eval(training_list)"
   ]
  },
  {
   "cell_type": "code",
   "execution_count": 126,
   "metadata": {},
   "outputs": [
    {
     "ename": "SyntaxError",
     "evalue": "invalid syntax (<ipython-input-126-0d5f79712a17>, line 23)",
     "output_type": "error",
     "traceback": [
      "\u001b[0;36m  File \u001b[0;32m\"<ipython-input-126-0d5f79712a17>\"\u001b[0;36m, line \u001b[0;32m23\u001b[0m\n\u001b[0;31m    for\u001b[0m\n\u001b[0m        ^\u001b[0m\n\u001b[0;31mSyntaxError\u001b[0m\u001b[0;31m:\u001b[0m invalid syntax\n"
     ]
    }
   ],
   "source": [
    "class MyCustomDataset(Dataset):\n",
    "    def __init__(self, image_path, gt_path, transform=None):\n",
    "        self.image_path = image_path\n",
    "        self.gt_path = gt_path\n",
    "        self.transform=transform  \n",
    "        self.images = self.read_file(self.image_path)\n",
    "        self.gt = self.read_file(self.gt_path)\n",
    "        \n",
    "    def read_file(self, path):\n",
    "        with open(path, 'r') as fp:\n",
    "            data = ast.literal_eval([d.rstrip('\\n') for d in fp.readlines()])\n",
    "        return data\n",
    "            \n",
    "    def __getitem__(self, index):\n",
    "        \n",
    "        img = self.images[index]\n",
    "        gt = self.gt[index]\n",
    "\n",
    "        assert len(img) == 9, 'Unequal number of training images'\n",
    "        \n",
    "        # for loop to read the images and convert to tensor\n",
    "        # read gt and convert to tensor\n",
    "        \n",
    "        \n",
    "        # apply transformation, if any\n",
    "        \n",
    "        return (img, gt)\n",
    "\n",
    "    def __len__(self):\n",
    "        return len(self.images)"
   ]
  },
  {
   "cell_type": "code",
   "execution_count": null,
   "metadata": {},
   "outputs": [],
   "source": []
  }
 ],
 "metadata": {
  "kernelspec": {
   "display_name": "Python 3",
   "language": "python",
   "name": "python3"
  },
  "language_info": {
   "codemirror_mode": {
    "name": "ipython",
    "version": 3
   },
   "file_extension": ".py",
   "mimetype": "text/x-python",
   "name": "python",
   "nbconvert_exporter": "python",
   "pygments_lexer": "ipython3",
   "version": "3.6.5"
  }
 },
 "nbformat": 4,
 "nbformat_minor": 2
}
